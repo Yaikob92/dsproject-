{
 "cells": [
  {
   "cell_type": "code",
   "execution_count": 4,
   "id": "b664ea68-16d9-45a7-97a2-9c788c00313a",
   "metadata": {},
   "outputs": [],
   "source": [
    "import pandas as pd\n",
    "import matplotlib.pyplot as plt\n",
    "import seaborn as sn"
   ]
  },
  {
   "cell_type": "code",
   "execution_count": 5,
   "id": "78880f12-41eb-476f-8004-bca660b4f3fe",
   "metadata": {},
   "outputs": [],
   "source": [
    "def wrangle(path):\n",
    "    # Read query resylts into DataFrame\n",
    "    df = pd.read_csv(path)\n",
    "    \n",
    "    # Label ecoding\n",
    "    # Define the Mapping\n",
    "    mapping = {\n",
    "        \"Low\":0,\n",
    "        \"Moderate\":1,\n",
    "        \"High\":1\n",
    "    }\n",
    "    # Apply the mapping\n",
    "    df[\"Heart_Attack_Risk\"] = df[\"Heart_Attack_Risk\"].map(mapping)\n",
    "    \n",
    "    return df"
   ]
  },
  {
   "cell_type": "code",
   "execution_count": 6,
   "id": "26dc2fea-6d0b-48ef-b5fb-74ec2e8c7a9d",
   "metadata": {},
   "outputs": [
    {
     "data": {
      "text/html": [
       "<div>\n",
       "<style scoped>\n",
       "    .dataframe tbody tr th:only-of-type {\n",
       "        vertical-align: middle;\n",
       "    }\n",
       "\n",
       "    .dataframe tbody tr th {\n",
       "        vertical-align: top;\n",
       "    }\n",
       "\n",
       "    .dataframe thead th {\n",
       "        text-align: right;\n",
       "    }\n",
       "</style>\n",
       "<table border=\"1\" class=\"dataframe\">\n",
       "  <thead>\n",
       "    <tr style=\"text-align: right;\">\n",
       "      <th></th>\n",
       "      <th>Age</th>\n",
       "      <th>Gender</th>\n",
       "      <th>Smoking</th>\n",
       "      <th>Alcohol_Consumption</th>\n",
       "      <th>Physical_Activity_Level</th>\n",
       "      <th>BMI</th>\n",
       "      <th>Diabetes</th>\n",
       "      <th>Hypertension</th>\n",
       "      <th>Cholesterol_Level</th>\n",
       "      <th>Resting_BP</th>\n",
       "      <th>Heart_Rate</th>\n",
       "      <th>Family_History</th>\n",
       "      <th>Stress_Level</th>\n",
       "      <th>Chest_Pain_Type</th>\n",
       "      <th>Thalassemia</th>\n",
       "      <th>Fasting_Blood_Sugar</th>\n",
       "      <th>ECG_Results</th>\n",
       "      <th>Exercise_Induced_Angina</th>\n",
       "      <th>Max_Heart_Rate_Achieved</th>\n",
       "      <th>Heart_Attack_Risk</th>\n",
       "    </tr>\n",
       "  </thead>\n",
       "  <tbody>\n",
       "    <tr>\n",
       "      <th>0</th>\n",
       "      <td>69</td>\n",
       "      <td>Female</td>\n",
       "      <td>1</td>\n",
       "      <td>0</td>\n",
       "      <td>Moderate</td>\n",
       "      <td>34.61</td>\n",
       "      <td>1</td>\n",
       "      <td>0</td>\n",
       "      <td>152.1</td>\n",
       "      <td>171</td>\n",
       "      <td>85</td>\n",
       "      <td>0</td>\n",
       "      <td>Moderate</td>\n",
       "      <td>Non-anginal</td>\n",
       "      <td>Reversible defect</td>\n",
       "      <td>0</td>\n",
       "      <td>Normal</td>\n",
       "      <td>0</td>\n",
       "      <td>114</td>\n",
       "      <td>0</td>\n",
       "    </tr>\n",
       "    <tr>\n",
       "      <th>1</th>\n",
       "      <td>32</td>\n",
       "      <td>Male</td>\n",
       "      <td>0</td>\n",
       "      <td>0</td>\n",
       "      <td>Moderate</td>\n",
       "      <td>22.75</td>\n",
       "      <td>0</td>\n",
       "      <td>0</td>\n",
       "      <td>166.8</td>\n",
       "      <td>126</td>\n",
       "      <td>103</td>\n",
       "      <td>0</td>\n",
       "      <td>Low</td>\n",
       "      <td>Asymptomatic</td>\n",
       "      <td>Normal</td>\n",
       "      <td>0</td>\n",
       "      <td>ST-T abnormality</td>\n",
       "      <td>0</td>\n",
       "      <td>173</td>\n",
       "      <td>1</td>\n",
       "    </tr>\n",
       "    <tr>\n",
       "      <th>2</th>\n",
       "      <td>89</td>\n",
       "      <td>Male</td>\n",
       "      <td>0</td>\n",
       "      <td>1</td>\n",
       "      <td>Moderate</td>\n",
       "      <td>35.32</td>\n",
       "      <td>0</td>\n",
       "      <td>0</td>\n",
       "      <td>272.3</td>\n",
       "      <td>123</td>\n",
       "      <td>127</td>\n",
       "      <td>0</td>\n",
       "      <td>Low</td>\n",
       "      <td>Typical</td>\n",
       "      <td>Reversible defect</td>\n",
       "      <td>0</td>\n",
       "      <td>ST-T abnormality</td>\n",
       "      <td>0</td>\n",
       "      <td>109</td>\n",
       "      <td>0</td>\n",
       "    </tr>\n",
       "    <tr>\n",
       "      <th>3</th>\n",
       "      <td>78</td>\n",
       "      <td>Male</td>\n",
       "      <td>0</td>\n",
       "      <td>1</td>\n",
       "      <td>Moderate</td>\n",
       "      <td>18.23</td>\n",
       "      <td>1</td>\n",
       "      <td>0</td>\n",
       "      <td>237.7</td>\n",
       "      <td>144</td>\n",
       "      <td>125</td>\n",
       "      <td>0</td>\n",
       "      <td>Low</td>\n",
       "      <td>Typical</td>\n",
       "      <td>Fixed defect</td>\n",
       "      <td>1</td>\n",
       "      <td>Left Ventricular Hypertrophy</td>\n",
       "      <td>0</td>\n",
       "      <td>129</td>\n",
       "      <td>0</td>\n",
       "    </tr>\n",
       "    <tr>\n",
       "      <th>4</th>\n",
       "      <td>38</td>\n",
       "      <td>Female</td>\n",
       "      <td>1</td>\n",
       "      <td>0</td>\n",
       "      <td>Moderate</td>\n",
       "      <td>19.82</td>\n",
       "      <td>0</td>\n",
       "      <td>0</td>\n",
       "      <td>207.7</td>\n",
       "      <td>123</td>\n",
       "      <td>107</td>\n",
       "      <td>0</td>\n",
       "      <td>High</td>\n",
       "      <td>Asymptomatic</td>\n",
       "      <td>Reversible defect</td>\n",
       "      <td>0</td>\n",
       "      <td>ST-T abnormality</td>\n",
       "      <td>0</td>\n",
       "      <td>124</td>\n",
       "      <td>1</td>\n",
       "    </tr>\n",
       "  </tbody>\n",
       "</table>\n",
       "</div>"
      ],
      "text/plain": [
       "   Age  Gender  Smoking  Alcohol_Consumption Physical_Activity_Level    BMI  \\\n",
       "0   69  Female        1                    0                Moderate  34.61   \n",
       "1   32    Male        0                    0                Moderate  22.75   \n",
       "2   89    Male        0                    1                Moderate  35.32   \n",
       "3   78    Male        0                    1                Moderate  18.23   \n",
       "4   38  Female        1                    0                Moderate  19.82   \n",
       "\n",
       "   Diabetes  Hypertension  Cholesterol_Level  Resting_BP  Heart_Rate  \\\n",
       "0         1             0              152.1         171          85   \n",
       "1         0             0              166.8         126         103   \n",
       "2         0             0              272.3         123         127   \n",
       "3         1             0              237.7         144         125   \n",
       "4         0             0              207.7         123         107   \n",
       "\n",
       "   Family_History Stress_Level Chest_Pain_Type        Thalassemia  \\\n",
       "0               0     Moderate     Non-anginal  Reversible defect   \n",
       "1               0          Low    Asymptomatic             Normal   \n",
       "2               0          Low         Typical  Reversible defect   \n",
       "3               0          Low         Typical       Fixed defect   \n",
       "4               0         High    Asymptomatic  Reversible defect   \n",
       "\n",
       "   Fasting_Blood_Sugar                   ECG_Results  Exercise_Induced_Angina  \\\n",
       "0                    0                        Normal                        0   \n",
       "1                    0              ST-T abnormality                        0   \n",
       "2                    0              ST-T abnormality                        0   \n",
       "3                    1  Left Ventricular Hypertrophy                        0   \n",
       "4                    0              ST-T abnormality                        0   \n",
       "\n",
       "   Max_Heart_Rate_Achieved  Heart_Attack_Risk  \n",
       "0                      114                  0  \n",
       "1                      173                  1  \n",
       "2                      109                  0  \n",
       "3                      129                  0  \n",
       "4                      124                  1  "
      ]
     },
     "execution_count": 6,
     "metadata": {},
     "output_type": "execute_result"
    }
   ],
   "source": [
    "df = wrangle(\"resources/heart_attack_risk_dataset.csv\")\n",
    "df.head()"
   ]
  },
  {
   "cell_type": "code",
   "execution_count": 7,
   "id": "a8c8200a-42aa-45af-84c7-850a491e5ce6",
   "metadata": {},
   "outputs": [
    {
     "name": "stdout",
     "output_type": "stream",
     "text": [
      "<class 'pandas.core.frame.DataFrame'>\n",
      "RangeIndex: 50000 entries, 0 to 49999\n",
      "Data columns (total 20 columns):\n",
      " #   Column                   Non-Null Count  Dtype  \n",
      "---  ------                   --------------  -----  \n",
      " 0   Age                      50000 non-null  int64  \n",
      " 1   Gender                   50000 non-null  object \n",
      " 2   Smoking                  50000 non-null  int64  \n",
      " 3   Alcohol_Consumption      50000 non-null  int64  \n",
      " 4   Physical_Activity_Level  50000 non-null  object \n",
      " 5   BMI                      50000 non-null  float64\n",
      " 6   Diabetes                 50000 non-null  int64  \n",
      " 7   Hypertension             50000 non-null  int64  \n",
      " 8   Cholesterol_Level        50000 non-null  float64\n",
      " 9   Resting_BP               50000 non-null  int64  \n",
      " 10  Heart_Rate               50000 non-null  int64  \n",
      " 11  Family_History           50000 non-null  int64  \n",
      " 12  Stress_Level             50000 non-null  object \n",
      " 13  Chest_Pain_Type          50000 non-null  object \n",
      " 14  Thalassemia              50000 non-null  object \n",
      " 15  Fasting_Blood_Sugar      50000 non-null  int64  \n",
      " 16  ECG_Results              50000 non-null  object \n",
      " 17  Exercise_Induced_Angina  50000 non-null  int64  \n",
      " 18  Max_Heart_Rate_Achieved  50000 non-null  int64  \n",
      " 19  Heart_Attack_Risk        50000 non-null  int64  \n",
      "dtypes: float64(2), int64(12), object(6)\n",
      "memory usage: 7.6+ MB\n"
     ]
    }
   ],
   "source": [
    "df.info()"
   ]
  },
  {
   "cell_type": "code",
   "execution_count": 12,
   "id": "3e1e7969-61fc-4e0f-9dbc-20d8ce891dc7",
   "metadata": {},
   "outputs": [
    {
     "data": {
      "text/plain": [
       "(50000, 20)"
      ]
     },
     "execution_count": 12,
     "metadata": {},
     "output_type": "execute_result"
    }
   ],
   "source": [
    "df.shape"
   ]
  },
  {
   "cell_type": "code",
   "execution_count": 28,
   "id": "f952e132-79c2-4703-8e2d-df047bf3f86f",
   "metadata": {},
   "outputs": [
    {
     "data": {
      "text/plain": [
       "Age                        0\n",
       "Gender                     0\n",
       "Smoking                    0\n",
       "Alcohol_Consumption        0\n",
       "Physical_Activity_Level    0\n",
       "BMI                        0\n",
       "Diabetes                   0\n",
       "Hypertension               0\n",
       "Cholesterol_Level          0\n",
       "Resting_BP                 0\n",
       "Heart_Rate                 0\n",
       "Family_History             0\n",
       "Stress_Level               0\n",
       "Chest_Pain_Type            0\n",
       "Thalassemia                0\n",
       "Fasting_Blood_Sugar        0\n",
       "ECG_Results                0\n",
       "Exercise_Induced_Angina    0\n",
       "Max_Heart_Rate_Achieved    0\n",
       "Heart_Attack_Risk          0\n",
       "dtype: int64"
      ]
     },
     "execution_count": 28,
     "metadata": {},
     "output_type": "execute_result"
    }
   ],
   "source": [
    "# checking null values from the data\n",
    "df.isnull().sum()"
   ]
  },
  {
   "cell_type": "code",
   "execution_count": 30,
   "id": "9e550459-67ff-4e65-bb1d-b22dc54c7782",
   "metadata": {},
   "outputs": [
    {
     "data": {
      "text/html": [
       "<div>\n",
       "<style scoped>\n",
       "    .dataframe tbody tr th:only-of-type {\n",
       "        vertical-align: middle;\n",
       "    }\n",
       "\n",
       "    .dataframe tbody tr th {\n",
       "        vertical-align: top;\n",
       "    }\n",
       "\n",
       "    .dataframe thead th {\n",
       "        text-align: right;\n",
       "    }\n",
       "</style>\n",
       "<table border=\"1\" class=\"dataframe\">\n",
       "  <thead>\n",
       "    <tr style=\"text-align: right;\">\n",
       "      <th></th>\n",
       "      <th>Age</th>\n",
       "      <th>Smoking</th>\n",
       "      <th>Alcohol_Consumption</th>\n",
       "      <th>BMI</th>\n",
       "      <th>Diabetes</th>\n",
       "      <th>Hypertension</th>\n",
       "      <th>Cholesterol_Level</th>\n",
       "      <th>Resting_BP</th>\n",
       "      <th>Heart_Rate</th>\n",
       "      <th>Family_History</th>\n",
       "      <th>Fasting_Blood_Sugar</th>\n",
       "      <th>Exercise_Induced_Angina</th>\n",
       "      <th>Max_Heart_Rate_Achieved</th>\n",
       "      <th>Heart_Attack_Risk</th>\n",
       "    </tr>\n",
       "  </thead>\n",
       "  <tbody>\n",
       "    <tr>\n",
       "      <th>count</th>\n",
       "      <td>50000.000000</td>\n",
       "      <td>50000.000000</td>\n",
       "      <td>50000.000000</td>\n",
       "      <td>50000.000000</td>\n",
       "      <td>50000.000000</td>\n",
       "      <td>50000.00000</td>\n",
       "      <td>50000.000000</td>\n",
       "      <td>50000.000000</td>\n",
       "      <td>50000.000000</td>\n",
       "      <td>50000.00000</td>\n",
       "      <td>50000.000000</td>\n",
       "      <td>50000.000000</td>\n",
       "      <td>50000.000000</td>\n",
       "      <td>50000.000000</td>\n",
       "    </tr>\n",
       "    <tr>\n",
       "      <th>mean</th>\n",
       "      <td>53.398700</td>\n",
       "      <td>0.298420</td>\n",
       "      <td>0.401980</td>\n",
       "      <td>27.519357</td>\n",
       "      <td>0.198840</td>\n",
       "      <td>0.29738</td>\n",
       "      <td>225.036444</td>\n",
       "      <td>134.434100</td>\n",
       "      <td>94.530480</td>\n",
       "      <td>0.30034</td>\n",
       "      <td>0.149360</td>\n",
       "      <td>0.201640</td>\n",
       "      <td>149.305340</td>\n",
       "      <td>0.499520</td>\n",
       "    </tr>\n",
       "    <tr>\n",
       "      <th>std</th>\n",
       "      <td>20.799006</td>\n",
       "      <td>0.457569</td>\n",
       "      <td>0.490303</td>\n",
       "      <td>7.225176</td>\n",
       "      <td>0.399131</td>\n",
       "      <td>0.45711</td>\n",
       "      <td>43.317373</td>\n",
       "      <td>25.907961</td>\n",
       "      <td>20.187124</td>\n",
       "      <td>0.45841</td>\n",
       "      <td>0.356447</td>\n",
       "      <td>0.401229</td>\n",
       "      <td>28.823699</td>\n",
       "      <td>0.500005</td>\n",
       "    </tr>\n",
       "    <tr>\n",
       "      <th>min</th>\n",
       "      <td>18.000000</td>\n",
       "      <td>0.000000</td>\n",
       "      <td>0.000000</td>\n",
       "      <td>15.000000</td>\n",
       "      <td>0.000000</td>\n",
       "      <td>0.00000</td>\n",
       "      <td>150.000000</td>\n",
       "      <td>90.000000</td>\n",
       "      <td>60.000000</td>\n",
       "      <td>0.00000</td>\n",
       "      <td>0.000000</td>\n",
       "      <td>0.000000</td>\n",
       "      <td>100.000000</td>\n",
       "      <td>0.000000</td>\n",
       "    </tr>\n",
       "    <tr>\n",
       "      <th>25%</th>\n",
       "      <td>35.000000</td>\n",
       "      <td>0.000000</td>\n",
       "      <td>0.000000</td>\n",
       "      <td>21.270000</td>\n",
       "      <td>0.000000</td>\n",
       "      <td>0.00000</td>\n",
       "      <td>187.300000</td>\n",
       "      <td>112.000000</td>\n",
       "      <td>77.000000</td>\n",
       "      <td>0.00000</td>\n",
       "      <td>0.000000</td>\n",
       "      <td>0.000000</td>\n",
       "      <td>124.000000</td>\n",
       "      <td>0.000000</td>\n",
       "    </tr>\n",
       "    <tr>\n",
       "      <th>50%</th>\n",
       "      <td>53.000000</td>\n",
       "      <td>0.000000</td>\n",
       "      <td>0.000000</td>\n",
       "      <td>27.540000</td>\n",
       "      <td>0.000000</td>\n",
       "      <td>0.00000</td>\n",
       "      <td>225.100000</td>\n",
       "      <td>134.000000</td>\n",
       "      <td>94.000000</td>\n",
       "      <td>0.00000</td>\n",
       "      <td>0.000000</td>\n",
       "      <td>0.000000</td>\n",
       "      <td>149.000000</td>\n",
       "      <td>0.000000</td>\n",
       "    </tr>\n",
       "    <tr>\n",
       "      <th>75%</th>\n",
       "      <td>71.000000</td>\n",
       "      <td>1.000000</td>\n",
       "      <td>1.000000</td>\n",
       "      <td>33.770000</td>\n",
       "      <td>0.000000</td>\n",
       "      <td>1.00000</td>\n",
       "      <td>262.600000</td>\n",
       "      <td>157.000000</td>\n",
       "      <td>112.000000</td>\n",
       "      <td>1.00000</td>\n",
       "      <td>0.000000</td>\n",
       "      <td>0.000000</td>\n",
       "      <td>174.000000</td>\n",
       "      <td>1.000000</td>\n",
       "    </tr>\n",
       "    <tr>\n",
       "      <th>max</th>\n",
       "      <td>89.000000</td>\n",
       "      <td>1.000000</td>\n",
       "      <td>1.000000</td>\n",
       "      <td>40.000000</td>\n",
       "      <td>1.000000</td>\n",
       "      <td>1.00000</td>\n",
       "      <td>300.000000</td>\n",
       "      <td>179.000000</td>\n",
       "      <td>129.000000</td>\n",
       "      <td>1.00000</td>\n",
       "      <td>1.000000</td>\n",
       "      <td>1.000000</td>\n",
       "      <td>199.000000</td>\n",
       "      <td>1.000000</td>\n",
       "    </tr>\n",
       "  </tbody>\n",
       "</table>\n",
       "</div>"
      ],
      "text/plain": [
       "                Age       Smoking  Alcohol_Consumption           BMI  \\\n",
       "count  50000.000000  50000.000000         50000.000000  50000.000000   \n",
       "mean      53.398700      0.298420             0.401980     27.519357   \n",
       "std       20.799006      0.457569             0.490303      7.225176   \n",
       "min       18.000000      0.000000             0.000000     15.000000   \n",
       "25%       35.000000      0.000000             0.000000     21.270000   \n",
       "50%       53.000000      0.000000             0.000000     27.540000   \n",
       "75%       71.000000      1.000000             1.000000     33.770000   \n",
       "max       89.000000      1.000000             1.000000     40.000000   \n",
       "\n",
       "           Diabetes  Hypertension  Cholesterol_Level    Resting_BP  \\\n",
       "count  50000.000000   50000.00000       50000.000000  50000.000000   \n",
       "mean       0.198840       0.29738         225.036444    134.434100   \n",
       "std        0.399131       0.45711          43.317373     25.907961   \n",
       "min        0.000000       0.00000         150.000000     90.000000   \n",
       "25%        0.000000       0.00000         187.300000    112.000000   \n",
       "50%        0.000000       0.00000         225.100000    134.000000   \n",
       "75%        0.000000       1.00000         262.600000    157.000000   \n",
       "max        1.000000       1.00000         300.000000    179.000000   \n",
       "\n",
       "         Heart_Rate  Family_History  Fasting_Blood_Sugar  \\\n",
       "count  50000.000000     50000.00000         50000.000000   \n",
       "mean      94.530480         0.30034             0.149360   \n",
       "std       20.187124         0.45841             0.356447   \n",
       "min       60.000000         0.00000             0.000000   \n",
       "25%       77.000000         0.00000             0.000000   \n",
       "50%       94.000000         0.00000             0.000000   \n",
       "75%      112.000000         1.00000             0.000000   \n",
       "max      129.000000         1.00000             1.000000   \n",
       "\n",
       "       Exercise_Induced_Angina  Max_Heart_Rate_Achieved  Heart_Attack_Risk  \n",
       "count             50000.000000             50000.000000       50000.000000  \n",
       "mean                  0.201640               149.305340           0.499520  \n",
       "std                   0.401229                28.823699           0.500005  \n",
       "min                   0.000000               100.000000           0.000000  \n",
       "25%                   0.000000               124.000000           0.000000  \n",
       "50%                   0.000000               149.000000           0.000000  \n",
       "75%                   0.000000               174.000000           1.000000  \n",
       "max                   1.000000               199.000000           1.000000  "
      ]
     },
     "execution_count": 30,
     "metadata": {},
     "output_type": "execute_result"
    }
   ],
   "source": [
    "df.describe()"
   ]
  },
  {
   "cell_type": "code",
   "execution_count": 70,
   "id": "fa185bfa-5daa-4838-9c00-cec7964afc95",
   "metadata": {},
   "outputs": [
    {
     "data": {
      "text/plain": [
       "['Age',\n",
       " 'Smoking',\n",
       " 'Alcohol_Consumption',\n",
       " 'BMI',\n",
       " 'Diabetes',\n",
       " 'Hypertension',\n",
       " 'Cholesterol_Level',\n",
       " 'Resting_BP',\n",
       " 'Heart_Rate',\n",
       " 'Family_History',\n",
       " 'Fasting_Blood_Sugar',\n",
       " 'Exercise_Induced_Angina',\n",
       " 'Max_Heart_Rate_Achieved',\n",
       " 'Heart_Attack_Risk']"
      ]
     },
     "execution_count": 70,
     "metadata": {},
     "output_type": "execute_result"
    }
   ],
   "source": [
    "numeric_columns = []\n",
    "for i in df.select_dtypes(\"number\"):\n",
    "    numeric_columns.append(i)\n",
    "numeric_columns"
   ]
  },
  {
   "cell_type": "code",
   "execution_count": 74,
   "id": "7c77133a-1407-4b4e-b7da-3381ef365936",
   "metadata": {},
   "outputs": [],
   "source": [
    "numeric_columns = df.select_dtypes(\"number\").nunique()"
   ]
  },
  {
   "cell_type": "code",
   "execution_count": 108,
   "id": "4d73ed7b-926b-4d40-b6c6-64d16b35809d",
   "metadata": {},
   "outputs": [
    {
     "data": {
      "text/plain": [
       "Text(0.5, 1.0, 'Distribution of Values')"
      ]
     },
     "execution_count": 108,
     "metadata": {},
     "output_type": "execute_result"
    },
    {
     "data": {
      "image/png": "[encoded data removed]",
      "text/plain": [
       "<Figure size 640x480 with 1 Axes>"
      ]
     },
     "metadata": {},
     "output_type": "display_data"
    }
   ],
   "source": [
    "plt.hist(df[\"Age\"],bins=30);\n",
    "plt.xlabel('Value Range')\n",
    "plt.ylabel('Frequency')\n",
    "plt.title('Distribution of Values')"
   ]
  },
  {
   "cell_type": "code",
   "execution_count": 110,
   "id": "f82b2f4a-8871-4cf4-af05-02a8007dced9",
   "metadata": {},
   "outputs": [
    {
     "data": {
      "text/plain": [
       "Text(0.5, 1.0, 'Distribution of Values')"
      ]
     },
     "execution_count": 110,
     "metadata": {},
     "output_type": "execute_result"
    },
    {
     "data": {
      "image/png": "[encoded data removed]",
      "text/plain": [
       "<Figure size 640x480 with 1 Axes>"
      ]
     },
     "metadata": {},
     "output_type": "display_data"
    }
   ],
   "source": [
    "plt.hist(df[\"BMI\"],bins=30);\n",
    "plt.xlabel('Value Range')\n",
    "plt.ylabel('Frequency')\n",
    "plt.title('Distribution of Values')"
   ]
  },
  {
   "cell_type": "code",
   "execution_count": 112,
   "id": "9a2fca28-f7aa-409e-a5f6-5e597b715040",
   "metadata": {},
   "outputs": [
    {
     "data": {
      "text/plain": [
       "Text(0.5, 1.0, 'Distribution of Values')"
      ]
     },
     "execution_count": 112,
     "metadata": {},
     "output_type": "execute_result"
    },
    {
     "data": {
      "image/png": "[encoded data removed]",
      "text/plain": [
       "<Figure size 640x480 with 1 Axes>"
      ]
     },
     "metadata": {},
     "output_type": "display_data"
    }
   ],
   "source": [
    "plt.hist(df[\"Cholesterol_Level\"],bins=30);\n",
    "plt.xlabel('Value Range')\n",
    "plt.ylabel('Frequency')\n",
    "plt.title('Distribution of Values')"
   ]
  },
  {
   "cell_type": "code",
   "execution_count": null,
   "id": "753eddee-1b05-4da9-8061-44a978523936",
   "metadata": {},
   "outputs": [],
   "source": [
    "plt.hist(df[\"Resting_BP\"],bins=30)\n",
    "plt.xlabel('Value Range')\n",
    "plt.ylabel('Frequency')\n",
    "plt.title('Distribution of Values');"
   ]
  },
  {
   "cell_type": "code",
   "execution_count": null,
   "id": "e44eb30a-dd4e-43d1-a11e-00d96a62da95",
   "metadata": {},
   "outputs": [],
   "source": [
    "plt.hist(df[\"Heart_Rate\"],bins=30)\n",
    "plt.xlabel('Value Range')\n",
    "plt.ylabel('Frequency')\n",
    "plt.title('Distribution of Values');"
   ]
  },
  {
   "cell_type": "code",
   "execution_count": null,
   "id": "f0a835bc-f092-4e82-a57a-3b334cb17091",
   "metadata": {},
   "outputs": [],
   "source": [
    "plt.hist(df[\"Max_Heart_Rate_Achieved\"],bins=30)\n",
    "plt.xlabel('Value Range')\n",
    "plt.ylabel('Frequency')\n",
    "plt.title('Distribution of Values');"
   ]
  },
  {
   "cell_type": "code",
   "execution_count": null,
   "id": "57275dd3-b0c5-484e-b0db-b9c187fde617",
   "metadata": {},
   "outputs": [],
   "source": []
  }
 ],
 "metadata": {
  "kernelspec": {
   "display_name": "Python 3 (ipykernel)",
   "language": "python",
   "name": "python3"
  },
  "language_info": {
   "codemirror_mode": {
    "name": "ipython",
    "version": 3
   },
   "file_extension": ".py",
   "mimetype": "text/x-python",
   "name": "python",
   "nbconvert_exporter": "python",
   "pygments_lexer": "ipython3",
   "version": "3.11.7"
  }
 },
 "nbformat": 4,
 "nbformat_minor": 5
}
